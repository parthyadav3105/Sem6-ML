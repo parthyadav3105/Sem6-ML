{
 "cells": [
  {
   "cell_type": "code",
   "execution_count": 49,
   "metadata": {},
   "outputs": [],
   "source": [
    "import numpy as np\n",
    "import matplotlib.pyplot as plt"
   ]
  },
  {
   "cell_type": "code",
   "execution_count": 50,
   "metadata": {},
   "outputs": [],
   "source": [
    "def gradient_descent(x, y, b, m, learning_rate):\n",
    "    b_gradient, m_gradient = 0, 0\n",
    "    for i in range(len(x)):\n",
    "        #summation of dL/db, differentiating loss function w.r.t. constant(b)\n",
    "        b_gradient += (2*(m*x[i] + b - y[i]))\n",
    "        #summation of dL/dm, , differentiating loss function w.r.t. slope(m)\n",
    "        m_gradient += (2*x[i]*(m*x[i] + b - y[i]))\n",
    "    #Calculate new constant and slope\n",
    "    new_b = b - (learning_rate*b_gradient)\n",
    "    new_m = m - (learning_rate*m_gradient)\n",
    "    return [new_b, new_m]"
   ]
  },
  {
   "cell_type": "code",
   "execution_count": 51,
   "metadata": {},
   "outputs": [],
   "source": [
    "def calculate_new_coefficient(x, y, b, m, num_iteration, learning_rate):\n",
    "    for i in range(num_iteration):\n",
    "        [b,m] = gradient_descent(x,y,b,m,learning_rate)\n",
    "    return [b,m]"
   ]
  },
  {
   "cell_type": "code",
   "execution_count": 54,
   "metadata": {},
   "outputs": [],
   "source": [
    "\n",
    "def plot(x,y,b,m):\n",
    "    plt.scatter(x,y,color=\"b\", marker=\"o\", s=20)\n",
    "    y_pred = m*x + b\n",
    "    plt.plot(x,y_pred, color='r')\n",
    "    plt.xlabel('x')\n",
    "    plt.ylabel('y')\n",
    "    plt.show(block=False)\n",
    "    plt.pause(0.2)\n",
    "    plt.close()"
   ]
  },
  {
   "cell_type": "code",
   "execution_count": 55,
   "metadata": {},
   "outputs": [
    {
     "name": "stdout",
     "output_type": "stream",
     "text": [
      "initial\n"
     ]
    },
    {
     "data": {
      "image/png": "[encoded data removed]",
      "text/plain": [
       "<Figure size 432x288 with 1 Axes>"
      ]
     },
     "metadata": {
      "needs_background": "light"
     },
     "output_type": "display_data"
    },
    {
     "name": "stdout",
     "output_type": "stream",
     "text": [
      "with gradient descent\n"
     ]
    },
    {
     "data": {
      "image/png": "[encoded data removed]",
      "text/plain": [
       "<Figure size 432x288 with 1 Axes>"
      ]
     },
     "metadata": {
      "needs_background": "light"
     },
     "output_type": "display_data"
    }
   ],
   "source": [
    "#data\n",
    "x = np.array([7, 5, 4, 3, 4, 9, 6, 0, 8, 1, 5, 7])\n",
    "y = np.array([9, 8, 4, 5, 7, 12, 8, 1, 9, 3, 5, 6])\n",
    "\n",
    "b = 0\n",
    "m = -1\n",
    "\n",
    "print(\"initial\")\n",
    "plot(x, y, b, m)\n",
    "\n",
    "[b,m] = calculate_new_coefficient(x,y, b, m, num_iteration=50, learning_rate=0.0007)\n",
    "print(\"with gradient descent\")\n",
    "plot(x, y, b, m)"
   ]
  }
 ],
 "metadata": {
  "kernelspec": {
   "display_name": "Python 3",
   "language": "python",
   "name": "python3"
  },
  "language_info": {
   "codemirror_mode": {
    "name": "ipython",
    "version": 3
   },
   "file_extension": ".py",
   "mimetype": "text/x-python",
   "name": "python",
   "nbconvert_exporter": "python",
   "pygments_lexer": "ipython3",
   "version": "3.7.6"
  }
 },
 "nbformat": 4,
 "nbformat_minor": 4
}
