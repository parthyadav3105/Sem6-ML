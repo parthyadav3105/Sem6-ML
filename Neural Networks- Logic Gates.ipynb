{
 "cells": [
  {
   "cell_type": "code",
   "execution_count": 5,
   "metadata": {},
   "outputs": [],
   "source": [
    "names = ['AND','OR','NOT','NOR','NAND']\n",
    "weights = [[1,1,-1],[2,2,-1],[-1,1],[-1,-1,1],[-1,-1,2]]"
   ]
  },
  {
   "cell_type": "code",
   "execution_count": 6,
   "metadata": {},
   "outputs": [],
   "source": [
    "def compute(opt,in1,in2):\n",
    "    if(opt==0 and opt==1 and opt==3 and opt==4):\n",
    "        ans = ((weights[opt][0])*in1)+((weights[opt][1])*in2)+weights[opt][2]\n",
    "        return ans\n",
    "    else:\n",
    "        ans = ((weights[opt][0]*in1)+weights[opt][1])\n",
    "        return ans"
   ]
  },
  {
   "cell_type": "code",
   "execution_count": null,
   "metadata": {},
   "outputs": [],
   "source": [
    "option = int(input(\"0->and 1->or 2->not 3->nor 4->nand\"))\n",
    "print(names[option])\n",
    "if(option!=2):\n",
    "    print(\"a=0 b=0 out=\" + str(compute(option,0,0)))\n",
    "    print(\"a=0 b=1 out=\" + str(compute(option,0,1)))\n",
    "    print(\"a=1 b=0 out=\" + str(compute(option,1,0)))\n",
    "    print(\"a=1 b=1 out=\" + str(compute(option,1,1)))\n",
    "\n",
    "else:\n",
    "    print(\"a=0 out=\" + str(compute(option,0,0)))\n",
    "    print(\"a=1 out=\" + str(compute(option,1,0)))"
   ]
  },
  {
   "cell_type": "code",
   "execution_count": null,
   "metadata": {},
   "outputs": [],
   "source": []
  }
 ],
 "metadata": {
  "kernelspec": {
   "display_name": "Python 3",
   "language": "python",
   "name": "python3"
  },
  "language_info": {
   "codemirror_mode": {
    "name": "ipython",
    "version": 3
   },
   "file_extension": ".py",
   "mimetype": "text/x-python",
   "name": "python",
   "nbconvert_exporter": "python",
   "pygments_lexer": "ipython3",
   "version": "3.7.6"
  }
 },
 "nbformat": 4,
 "nbformat_minor": 2
}
